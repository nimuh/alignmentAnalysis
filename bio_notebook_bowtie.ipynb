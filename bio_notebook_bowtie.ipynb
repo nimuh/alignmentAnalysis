{
 "cells": [
  {
   "cell_type": "markdown",
   "metadata": {},
   "source": [
    "# Import Libraries for Analyzing Sequences\n"
   ]
  },
  {
   "cell_type": "code",
   "execution_count": 4,
   "metadata": {},
   "outputs": [],
   "source": [
    "import pysam\n",
    "import Bio\n",
    "from Bio import SeqIO\n",
    "from Bio.SeqUtils import GC\n",
    "from Bio.Seq import Seq\n",
    "from Bio.SeqRecord import SeqRecord\n",
    "import pandas as pd"
   ]
  },
  {
   "cell_type": "markdown",
   "metadata": {},
   "source": [
    "# Read the Records for Chr 1 and 2 and Both Plasmids"
   ]
  },
  {
   "cell_type": "code",
   "execution_count": 5,
   "metadata": {},
   "outputs": [],
   "source": [
    "def read_reference_records(filename):\n",
    "    records = []\n",
    "    with open(filename, \"r\") as reference_file:\n",
    "        for record in SeqIO.parse(reference_file, \"fasta\"):\n",
    "            records.append(record)\n",
    "    return records\n",
    "            \n",
    "records = read_reference_records(\"ref1.fna\")"
   ]
  },
  {
   "cell_type": "markdown",
   "metadata": {},
   "source": [
    "# Read the Alignment Positions from the Parsed SAM File"
   ]
  },
  {
   "cell_type": "code",
   "execution_count": 6,
   "metadata": {},
   "outputs": [],
   "source": [
    "def read_sam_hits(filename):\n",
    "    hits = []\n",
    "    with open(filename, \"r\") as sam_parsed:\n",
    "        for line in sam_parsed:\n",
    "            tokens = line.split()\n",
    "            hits.append((tokens[0], int(tokens[1])-1))\n",
    "    return hits\n",
    "\n",
    "sam_hits = read_sam_hits(\"sam_parsed_final.txt\")\n",
    "        "
   ]
  },
  {
   "cell_type": "markdown",
   "metadata": {},
   "source": [
    "# Compute the GC Content of the Sliding Windows"
   ]
  },
  {
   "cell_type": "code",
   "execution_count": 7,
   "metadata": {},
   "outputs": [],
   "source": [
    "def get_sliding_window_metrics(records):\n",
    "    results = []\n",
    "    for record in records:\n",
    "        window_start = 0\n",
    "        str_seq = str(record.seq)\n",
    "        str_seq_len = len(str_seq)\n",
    "        while window_start < str_seq_len:\n",
    "            gc_content = GC(str_seq[window_start:min(window_start+100, str_seq_len)])\n",
    "            results.append([record.id, (window_start, window_start + 99), gc_content])\n",
    "            window_start += 100\n",
    "    return results\n",
    "\n",
    "results = get_sliding_window_metrics(records)\n",
    "        \n"
   ]
  },
  {
   "cell_type": "code",
   "execution_count": 8,
   "metadata": {},
   "outputs": [],
   "source": [
    "def get_hit_counts(sam_hits):\n",
    "    hit_count_dict = {}\n",
    "    for (hid, pos) in sam_hits:\n",
    "        if not (hid, pos) in hit_count_dict.keys():\n",
    "            hit_count_dict[(hid, pos)] = 1\n",
    "        else:\n",
    "            hit_count_dict[(hid, pos)] += 1\n",
    "    return hit_count_dict\n",
    "\n",
    "hit_count_dict = get_hit_counts(sam_hits)"
   ]
  },
  {
   "cell_type": "code",
   "execution_count": 9,
   "metadata": {},
   "outputs": [
    {
     "name": "stdout",
     "output_type": "stream",
     "text": [
      "[2466549, 1265276, 0, 2613]\n"
     ]
    }
   ],
   "source": [
    "def hit_counts_by_record(hit_count_dict):\n",
    "    # records 19 and 20 represent the plasmids, which didn't have much coverage\n",
    "    record_ids = ['NZ_CP009617.1', 'NZ_CP009618.1', 'NZ_CP009619.1', 'NZ_CP009620.1']\n",
    "    record_counts = []\n",
    "    for rid in record_ids:\n",
    "        total = sum([count for ((faid, _), count) in hit_count_dict.items() if faid == rid])\n",
    "        record_counts.append(total)\n",
    "        \n",
    "    return record_counts\n",
    "print(hit_counts_by_record(hit_count_dict))"
   ]
  },
  {
   "cell_type": "markdown",
   "metadata": {},
   "source": [
    "# Combine the Read Counts and Window Metrics into Final Results"
   ]
  },
  {
   "cell_type": "code",
   "execution_count": 10,
   "metadata": {},
   "outputs": [],
   "source": [
    "def get_full_results(sliding_windows, hit_count_dict):\n",
    "    results = []\n",
    "    for window in sliding_windows:\n",
    "        count = 0\n",
    "        for i in range(window[1][0], window[1][1]+1):\n",
    "            try:\n",
    "                count += hit_count_dict[(window[0], i)]\n",
    "            except Exception:\n",
    "                None\n",
    "        results.append(window + [count])\n",
    "    return results\n",
    "\n",
    "chrm_ids = ['NZ_CP009617.1', 'NZ_CP009618.1']\n",
    "filtered_windows = [result for result in results if result[0] in chrm_ids]\n",
    "full_results = get_full_results(filtered_windows, hit_count_dict)"
   ]
  },
  {
   "cell_type": "markdown",
   "metadata": {},
   "source": [
    "# Save Data to a Pandas DataFrame for Easy Analysis"
   ]
  },
  {
   "cell_type": "code",
   "execution_count": 11,
   "metadata": {},
   "outputs": [],
   "source": [
    "df = pd.DataFrame(full_results, columns=[\"ID\", \"Window\", \"GC_Content\", \"Number of Reads\"])\n"
   ]
  },
  {
   "cell_type": "code",
   "execution_count": 12,
   "metadata": {},
   "outputs": [
    {
     "data": {
      "text/plain": [
       "69.9131664730788"
      ]
     },
     "execution_count": 12,
     "metadata": {},
     "output_type": "execute_result"
    }
   ],
   "source": [
    "df[\"Number of Reads\"].mean()"
   ]
  },
  {
   "cell_type": "code",
   "execution_count": 13,
   "metadata": {},
   "outputs": [
    {
     "data": {
      "text/html": [
       "<div>\n",
       "<style scoped>\n",
       "    .dataframe tbody tr th:only-of-type {\n",
       "        vertical-align: middle;\n",
       "    }\n",
       "\n",
       "    .dataframe tbody tr th {\n",
       "        vertical-align: top;\n",
       "    }\n",
       "\n",
       "    .dataframe thead th {\n",
       "        text-align: right;\n",
       "    }\n",
       "</style>\n",
       "<table border=\"1\" class=\"dataframe\">\n",
       "  <thead>\n",
       "    <tr style=\"text-align: right;\">\n",
       "      <th></th>\n",
       "      <th>GC_Content</th>\n",
       "      <th>Number of Reads</th>\n",
       "    </tr>\n",
       "  </thead>\n",
       "  <tbody>\n",
       "    <tr>\n",
       "      <th>count</th>\n",
       "      <td>53378.000000</td>\n",
       "      <td>53378.000000</td>\n",
       "    </tr>\n",
       "    <tr>\n",
       "      <th>mean</th>\n",
       "      <td>45.525778</td>\n",
       "      <td>69.913166</td>\n",
       "    </tr>\n",
       "    <tr>\n",
       "      <th>std</th>\n",
       "      <td>5.780689</td>\n",
       "      <td>35.465932</td>\n",
       "    </tr>\n",
       "    <tr>\n",
       "      <th>min</th>\n",
       "      <td>12.000000</td>\n",
       "      <td>0.000000</td>\n",
       "    </tr>\n",
       "    <tr>\n",
       "      <th>25%</th>\n",
       "      <td>42.000000</td>\n",
       "      <td>62.000000</td>\n",
       "    </tr>\n",
       "    <tr>\n",
       "      <th>50%</th>\n",
       "      <td>46.000000</td>\n",
       "      <td>73.000000</td>\n",
       "    </tr>\n",
       "    <tr>\n",
       "      <th>75%</th>\n",
       "      <td>49.000000</td>\n",
       "      <td>84.000000</td>\n",
       "    </tr>\n",
       "    <tr>\n",
       "      <th>max</th>\n",
       "      <td>74.000000</td>\n",
       "      <td>2583.000000</td>\n",
       "    </tr>\n",
       "  </tbody>\n",
       "</table>\n",
       "</div>"
      ],
      "text/plain": [
       "         GC_Content  Number of Reads\n",
       "count  53378.000000     53378.000000\n",
       "mean      45.525778        69.913166\n",
       "std        5.780689        35.465932\n",
       "min       12.000000         0.000000\n",
       "25%       42.000000        62.000000\n",
       "50%       46.000000        73.000000\n",
       "75%       49.000000        84.000000\n",
       "max       74.000000      2583.000000"
      ]
     },
     "execution_count": 13,
     "metadata": {},
     "output_type": "execute_result"
    }
   ],
   "source": [
    "df.describe()"
   ]
  },
  {
   "cell_type": "markdown",
   "metadata": {},
   "source": [
    "# Generate Scatter Plot of GC Content vs. Number of Reads\n",
    "_Here we check for any correlation between GC Content and number of reads across all windows_\n"
   ]
  },
  {
   "cell_type": "code",
   "execution_count": 14,
   "metadata": {},
   "outputs": [
    {
     "data": {
      "text/plain": [
       "<matplotlib.axes._subplots.AxesSubplot at 0x146e05c10>"
      ]
     },
     "execution_count": 14,
     "metadata": {},
     "output_type": "execute_result"
    },
    {
     "data": {
      "image/png": "[encoded data removed]",
      "text/plain": [
       "<Figure size 432x288 with 1 Axes>"
      ]
     },
     "metadata": {
      "needs_background": "light"
     },
     "output_type": "display_data"
    }
   ],
   "source": [
    "import matplotlib\n",
    "df.plot.scatter(\"GC_Content\", \"Number of Reads\")"
   ]
  },
  {
   "cell_type": "markdown",
   "metadata": {},
   "source": [
    "# Filter outliers and Segregate Data into High and Low GC Content"
   ]
  },
  {
   "cell_type": "code",
   "execution_count": 15,
   "metadata": {},
   "outputs": [],
   "source": [
    "df = df[df[\"Number of Reads\"] <= 800]"
   ]
  },
  {
   "cell_type": "code",
   "execution_count": 16,
   "metadata": {},
   "outputs": [
    {
     "data": {
      "text/html": [
       "<div>\n",
       "<style scoped>\n",
       "    .dataframe tbody tr th:only-of-type {\n",
       "        vertical-align: middle;\n",
       "    }\n",
       "\n",
       "    .dataframe tbody tr th {\n",
       "        vertical-align: top;\n",
       "    }\n",
       "\n",
       "    .dataframe thead th {\n",
       "        text-align: right;\n",
       "    }\n",
       "</style>\n",
       "<table border=\"1\" class=\"dataframe\">\n",
       "  <thead>\n",
       "    <tr style=\"text-align: right;\">\n",
       "      <th></th>\n",
       "      <th>ID</th>\n",
       "      <th>Window</th>\n",
       "      <th>GC_Content</th>\n",
       "      <th>Number of Reads</th>\n",
       "    </tr>\n",
       "  </thead>\n",
       "  <tbody>\n",
       "    <tr>\n",
       "      <th>0</th>\n",
       "      <td>NZ_CP009617.1</td>\n",
       "      <td>(0, 99)</td>\n",
       "      <td>39.0</td>\n",
       "      <td>193</td>\n",
       "    </tr>\n",
       "    <tr>\n",
       "      <th>1</th>\n",
       "      <td>NZ_CP009617.1</td>\n",
       "      <td>(100, 199)</td>\n",
       "      <td>35.0</td>\n",
       "      <td>119</td>\n",
       "    </tr>\n",
       "    <tr>\n",
       "      <th>2</th>\n",
       "      <td>NZ_CP009617.1</td>\n",
       "      <td>(200, 299)</td>\n",
       "      <td>30.0</td>\n",
       "      <td>124</td>\n",
       "    </tr>\n",
       "    <tr>\n",
       "      <th>3</th>\n",
       "      <td>NZ_CP009617.1</td>\n",
       "      <td>(300, 399)</td>\n",
       "      <td>36.0</td>\n",
       "      <td>99</td>\n",
       "    </tr>\n",
       "    <tr>\n",
       "      <th>26</th>\n",
       "      <td>NZ_CP009617.1</td>\n",
       "      <td>(2600, 2699)</td>\n",
       "      <td>36.0</td>\n",
       "      <td>83</td>\n",
       "    </tr>\n",
       "    <tr>\n",
       "      <th>33</th>\n",
       "      <td>NZ_CP009617.1</td>\n",
       "      <td>(3300, 3399)</td>\n",
       "      <td>40.0</td>\n",
       "      <td>85</td>\n",
       "    </tr>\n",
       "    <tr>\n",
       "      <th>35</th>\n",
       "      <td>NZ_CP009617.1</td>\n",
       "      <td>(3500, 3599)</td>\n",
       "      <td>40.0</td>\n",
       "      <td>85</td>\n",
       "    </tr>\n",
       "    <tr>\n",
       "      <th>46</th>\n",
       "      <td>NZ_CP009617.1</td>\n",
       "      <td>(4600, 4699)</td>\n",
       "      <td>36.0</td>\n",
       "      <td>78</td>\n",
       "    </tr>\n",
       "    <tr>\n",
       "      <th>47</th>\n",
       "      <td>NZ_CP009617.1</td>\n",
       "      <td>(4700, 4799)</td>\n",
       "      <td>35.0</td>\n",
       "      <td>78</td>\n",
       "    </tr>\n",
       "    <tr>\n",
       "      <th>51</th>\n",
       "      <td>NZ_CP009617.1</td>\n",
       "      <td>(5100, 5199)</td>\n",
       "      <td>40.0</td>\n",
       "      <td>66</td>\n",
       "    </tr>\n",
       "  </tbody>\n",
       "</table>\n",
       "</div>"
      ],
      "text/plain": [
       "               ID        Window  GC_Content  Number of Reads\n",
       "0   NZ_CP009617.1       (0, 99)        39.0              193\n",
       "1   NZ_CP009617.1    (100, 199)        35.0              119\n",
       "2   NZ_CP009617.1    (200, 299)        30.0              124\n",
       "3   NZ_CP009617.1    (300, 399)        36.0               99\n",
       "26  NZ_CP009617.1  (2600, 2699)        36.0               83\n",
       "33  NZ_CP009617.1  (3300, 3399)        40.0               85\n",
       "35  NZ_CP009617.1  (3500, 3599)        40.0               85\n",
       "46  NZ_CP009617.1  (4600, 4699)        36.0               78\n",
       "47  NZ_CP009617.1  (4700, 4799)        35.0               78\n",
       "51  NZ_CP009617.1  (5100, 5199)        40.0               66"
      ]
     },
     "execution_count": 16,
     "metadata": {},
     "output_type": "execute_result"
    }
   ],
   "source": [
    "high_gc = df[df[\"GC_Content\"] >= 55.0]\n",
    "low_gc = df[df[\"GC_Content\"] <= 40.0]\n",
    "low_gc.head(10)"
   ]
  },
  {
   "cell_type": "code",
   "execution_count": 17,
   "metadata": {},
   "outputs": [
    {
     "data": {
      "text/html": [
       "<div>\n",
       "<style scoped>\n",
       "    .dataframe tbody tr th:only-of-type {\n",
       "        vertical-align: middle;\n",
       "    }\n",
       "\n",
       "    .dataframe tbody tr th {\n",
       "        vertical-align: top;\n",
       "    }\n",
       "\n",
       "    .dataframe thead th {\n",
       "        text-align: right;\n",
       "    }\n",
       "</style>\n",
       "<table border=\"1\" class=\"dataframe\">\n",
       "  <thead>\n",
       "    <tr style=\"text-align: right;\">\n",
       "      <th></th>\n",
       "      <th>ID</th>\n",
       "      <th>Window</th>\n",
       "      <th>GC_Content</th>\n",
       "      <th>Number of Reads</th>\n",
       "    </tr>\n",
       "  </thead>\n",
       "  <tbody>\n",
       "    <tr>\n",
       "      <th>17</th>\n",
       "      <td>NZ_CP009617.1</td>\n",
       "      <td>(1700, 1799)</td>\n",
       "      <td>55.0</td>\n",
       "      <td>68</td>\n",
       "    </tr>\n",
       "    <tr>\n",
       "      <th>116</th>\n",
       "      <td>NZ_CP009617.1</td>\n",
       "      <td>(11600, 11699)</td>\n",
       "      <td>57.0</td>\n",
       "      <td>90</td>\n",
       "    </tr>\n",
       "    <tr>\n",
       "      <th>121</th>\n",
       "      <td>NZ_CP009617.1</td>\n",
       "      <td>(12100, 12199)</td>\n",
       "      <td>55.0</td>\n",
       "      <td>72</td>\n",
       "    </tr>\n",
       "    <tr>\n",
       "      <th>151</th>\n",
       "      <td>NZ_CP009617.1</td>\n",
       "      <td>(15100, 15199)</td>\n",
       "      <td>55.0</td>\n",
       "      <td>80</td>\n",
       "    </tr>\n",
       "    <tr>\n",
       "      <th>181</th>\n",
       "      <td>NZ_CP009617.1</td>\n",
       "      <td>(18100, 18199)</td>\n",
       "      <td>55.0</td>\n",
       "      <td>81</td>\n",
       "    </tr>\n",
       "    <tr>\n",
       "      <th>194</th>\n",
       "      <td>NZ_CP009617.1</td>\n",
       "      <td>(19400, 19499)</td>\n",
       "      <td>55.0</td>\n",
       "      <td>81</td>\n",
       "    </tr>\n",
       "    <tr>\n",
       "      <th>200</th>\n",
       "      <td>NZ_CP009617.1</td>\n",
       "      <td>(20000, 20099)</td>\n",
       "      <td>57.0</td>\n",
       "      <td>80</td>\n",
       "    </tr>\n",
       "    <tr>\n",
       "      <th>204</th>\n",
       "      <td>NZ_CP009617.1</td>\n",
       "      <td>(20400, 20499)</td>\n",
       "      <td>56.0</td>\n",
       "      <td>50</td>\n",
       "    </tr>\n",
       "    <tr>\n",
       "      <th>208</th>\n",
       "      <td>NZ_CP009617.1</td>\n",
       "      <td>(20800, 20899)</td>\n",
       "      <td>57.0</td>\n",
       "      <td>85</td>\n",
       "    </tr>\n",
       "    <tr>\n",
       "      <th>240</th>\n",
       "      <td>NZ_CP009617.1</td>\n",
       "      <td>(24000, 24099)</td>\n",
       "      <td>56.0</td>\n",
       "      <td>69</td>\n",
       "    </tr>\n",
       "  </tbody>\n",
       "</table>\n",
       "</div>"
      ],
      "text/plain": [
       "                ID          Window  GC_Content  Number of Reads\n",
       "17   NZ_CP009617.1    (1700, 1799)        55.0               68\n",
       "116  NZ_CP009617.1  (11600, 11699)        57.0               90\n",
       "121  NZ_CP009617.1  (12100, 12199)        55.0               72\n",
       "151  NZ_CP009617.1  (15100, 15199)        55.0               80\n",
       "181  NZ_CP009617.1  (18100, 18199)        55.0               81\n",
       "194  NZ_CP009617.1  (19400, 19499)        55.0               81\n",
       "200  NZ_CP009617.1  (20000, 20099)        57.0               80\n",
       "204  NZ_CP009617.1  (20400, 20499)        56.0               50\n",
       "208  NZ_CP009617.1  (20800, 20899)        57.0               85\n",
       "240  NZ_CP009617.1  (24000, 24099)        56.0               69"
      ]
     },
     "execution_count": 17,
     "metadata": {},
     "output_type": "execute_result"
    }
   ],
   "source": [
    "high_gc.head(10)"
   ]
  },
  {
   "cell_type": "code",
   "execution_count": 18,
   "metadata": {},
   "outputs": [
    {
     "data": {
      "text/plain": [
       "9044"
      ]
     },
     "execution_count": 18,
     "metadata": {},
     "output_type": "execute_result"
    }
   ],
   "source": [
    "len(low_gc)"
   ]
  },
  {
   "cell_type": "code",
   "execution_count": 19,
   "metadata": {},
   "outputs": [],
   "source": [
    "mean_high_hits = sum(list(high_gc[\"Number of Reads\"])) / len(high_gc)\n",
    "mean_low_hits = sum(list(low_gc[\"Number of Reads\"])) / len(low_gc)"
   ]
  },
  {
   "cell_type": "markdown",
   "metadata": {},
   "source": [
    "# Mean Number of Read Alignments for High GC vs. Low GC Windows"
   ]
  },
  {
   "cell_type": "code",
   "execution_count": 20,
   "metadata": {},
   "outputs": [
    {
     "name": "stdout",
     "output_type": "stream",
     "text": [
      "67.1867881548975\n",
      "70.31932773109244\n"
     ]
    }
   ],
   "source": [
    "print(mean_high_hits)\n",
    "print(mean_low_hits)"
   ]
  },
  {
   "cell_type": "markdown",
   "metadata": {},
   "source": [
    "# Scatter Plots of GC Content vs. Hits for High and Low GC Data"
   ]
  },
  {
   "cell_type": "code",
   "execution_count": 21,
   "metadata": {},
   "outputs": [
    {
     "data": {
      "text/plain": [
       "<matplotlib.axes._subplots.AxesSubplot at 0x145c58450>"
      ]
     },
     "execution_count": 21,
     "metadata": {},
     "output_type": "execute_result"
    },
    {
     "data": {
      "image/png": "[encoded data removed]",
      "text/plain": [
       "<Figure size 432x288 with 1 Axes>"
      ]
     },
     "metadata": {
      "needs_background": "light"
     },
     "output_type": "display_data"
    }
   ],
   "source": [
    "high_gc.plot.scatter(\"GC_Content\", \"Number of Reads\")"
   ]
  },
  {
   "cell_type": "code",
   "execution_count": 22,
   "metadata": {},
   "outputs": [
    {
     "data": {
      "text/plain": [
       "<matplotlib.axes._subplots.AxesSubplot at 0x11ade0750>"
      ]
     },
     "execution_count": 22,
     "metadata": {},
     "output_type": "execute_result"
    },
    {
     "data": {
      "image/png": "[encoded data removed]",
      "text/plain": [
       "<Figure size 432x288 with 1 Axes>"
      ]
     },
     "metadata": {
      "needs_background": "light"
     },
     "output_type": "display_data"
    }
   ],
   "source": [
    "low_gc.plot.scatter(\"GC_Content\", \"Number of Reads\")"
   ]
  },
  {
   "cell_type": "markdown",
   "metadata": {},
   "source": [
    "# Histograms of GC Content Accross All Windows (Chr 1 and 2)\n",
    "**Here we see that the distribution of hits by GC Content matches the distribution of GC Content in general across the entire genome. The reason there are few-to-no reads aligning at GC content windows above 60% is that there are simply very few windows of length 100 with such high GC content in this genome**"
   ]
  },
  {
   "cell_type": "code",
   "execution_count": 23,
   "metadata": {},
   "outputs": [
    {
     "data": {
      "text/plain": [
       "array([[<matplotlib.axes._subplots.AxesSubplot object at 0x11b5c4210>]],\n",
       "      dtype=object)"
      ]
     },
     "execution_count": 23,
     "metadata": {},
     "output_type": "execute_result"
    },
    {
     "data": {
      "image/png": "[encoded data removed]",
      "text/plain": [
       "<Figure size 432x288 with 1 Axes>"
      ]
     },
     "metadata": {
      "needs_background": "light"
     },
     "output_type": "display_data"
    }
   ],
   "source": [
    "high_gc.hist(\"GC_Content\")"
   ]
  },
  {
   "cell_type": "code",
   "execution_count": 24,
   "metadata": {},
   "outputs": [
    {
     "data": {
      "text/plain": [
       "array([[<matplotlib.axes._subplots.AxesSubplot object at 0x11b5c43d0>]],\n",
       "      dtype=object)"
      ]
     },
     "execution_count": 24,
     "metadata": {},
     "output_type": "execute_result"
    },
    {
     "data": {
      "image/png": "[encoded data removed]",
      "text/plain": [
       "<Figure size 432x288 with 1 Axes>"
      ]
     },
     "metadata": {
      "needs_background": "light"
     },
     "output_type": "display_data"
    }
   ],
   "source": [
    "low_gc.hist(\"GC_Content\")"
   ]
  },
  {
   "cell_type": "markdown",
   "metadata": {},
   "source": [
    "# Compute a 2-Sample T-Test to Check for Significance\n",
    "**Here we check to see if the difference in the mean number of reads in high gc vs low gc windows is significant with a 2 independent sample t-test**"
   ]
  },
  {
   "cell_type": "code",
   "execution_count": 25,
   "metadata": {},
   "outputs": [
    {
     "data": {
      "text/plain": [
       "Ttest_indResult(statistic=-3.816242646713909, pvalue=0.00013773829487366665)"
      ]
     },
     "execution_count": 25,
     "metadata": {},
     "output_type": "execute_result"
    }
   ],
   "source": [
    "from scipy.stats import ttest_ind\n",
    "import numpy as np\n",
    "\n",
    "ttest_ind(list(high_gc[\"Number of Reads\"]), list(low_gc[\"Number of Reads\"]), equal_var=False)"
   ]
  },
  {
   "cell_type": "markdown",
   "metadata": {},
   "source": [
    "## Computing GC Content and Average Read Starts for IGV Highlighted Regions"
   ]
  },
  {
   "cell_type": "code",
   "execution_count": 26,
   "metadata": {},
   "outputs": [],
   "source": [
    "region1 = df[(df[\"ID\"] == 'NZ_CP009617.1') & (df[\"Window\"].str[0] >= 742894) & (df[\"Window\"].str[1] <= 743914)]"
   ]
  },
  {
   "cell_type": "code",
   "execution_count": 27,
   "metadata": {},
   "outputs": [],
   "source": [
    "region2 = df[(df[\"ID\"] == 'NZ_CP009617.1') & (df[\"Window\"].str[0] >= 746902) & (df[\"Window\"].str[1] <= 747998)]"
   ]
  },
  {
   "cell_type": "code",
   "execution_count": 28,
   "metadata": {},
   "outputs": [
    {
     "data": {
      "text/html": [
       "<div>\n",
       "<style scoped>\n",
       "    .dataframe tbody tr th:only-of-type {\n",
       "        vertical-align: middle;\n",
       "    }\n",
       "\n",
       "    .dataframe tbody tr th {\n",
       "        vertical-align: top;\n",
       "    }\n",
       "\n",
       "    .dataframe thead th {\n",
       "        text-align: right;\n",
       "    }\n",
       "</style>\n",
       "<table border=\"1\" class=\"dataframe\">\n",
       "  <thead>\n",
       "    <tr style=\"text-align: right;\">\n",
       "      <th></th>\n",
       "      <th>GC_Content</th>\n",
       "      <th>Number of Reads</th>\n",
       "    </tr>\n",
       "  </thead>\n",
       "  <tbody>\n",
       "    <tr>\n",
       "      <th>count</th>\n",
       "      <td>10.000000</td>\n",
       "      <td>10.000000</td>\n",
       "    </tr>\n",
       "    <tr>\n",
       "      <th>mean</th>\n",
       "      <td>40.300000</td>\n",
       "      <td>104.300000</td>\n",
       "    </tr>\n",
       "    <tr>\n",
       "      <th>std</th>\n",
       "      <td>7.789594</td>\n",
       "      <td>11.728882</td>\n",
       "    </tr>\n",
       "    <tr>\n",
       "      <th>min</th>\n",
       "      <td>30.000000</td>\n",
       "      <td>82.000000</td>\n",
       "    </tr>\n",
       "    <tr>\n",
       "      <th>25%</th>\n",
       "      <td>36.000000</td>\n",
       "      <td>97.750000</td>\n",
       "    </tr>\n",
       "    <tr>\n",
       "      <th>50%</th>\n",
       "      <td>38.000000</td>\n",
       "      <td>107.000000</td>\n",
       "    </tr>\n",
       "    <tr>\n",
       "      <th>75%</th>\n",
       "      <td>47.750000</td>\n",
       "      <td>111.250000</td>\n",
       "    </tr>\n",
       "    <tr>\n",
       "      <th>max</th>\n",
       "      <td>51.000000</td>\n",
       "      <td>118.000000</td>\n",
       "    </tr>\n",
       "  </tbody>\n",
       "</table>\n",
       "</div>"
      ],
      "text/plain": [
       "       GC_Content  Number of Reads\n",
       "count   10.000000        10.000000\n",
       "mean    40.300000       104.300000\n",
       "std      7.789594        11.728882\n",
       "min     30.000000        82.000000\n",
       "25%     36.000000        97.750000\n",
       "50%     38.000000       107.000000\n",
       "75%     47.750000       111.250000\n",
       "max     51.000000       118.000000"
      ]
     },
     "execution_count": 28,
     "metadata": {},
     "output_type": "execute_result"
    }
   ],
   "source": [
    "region1.describe()"
   ]
  },
  {
   "cell_type": "code",
   "execution_count": 29,
   "metadata": {},
   "outputs": [
    {
     "data": {
      "text/html": [
       "<div>\n",
       "<style scoped>\n",
       "    .dataframe tbody tr th:only-of-type {\n",
       "        vertical-align: middle;\n",
       "    }\n",
       "\n",
       "    .dataframe tbody tr th {\n",
       "        vertical-align: top;\n",
       "    }\n",
       "\n",
       "    .dataframe thead th {\n",
       "        text-align: right;\n",
       "    }\n",
       "</style>\n",
       "<table border=\"1\" class=\"dataframe\">\n",
       "  <thead>\n",
       "    <tr style=\"text-align: right;\">\n",
       "      <th></th>\n",
       "      <th>GC_Content</th>\n",
       "      <th>Number of Reads</th>\n",
       "    </tr>\n",
       "  </thead>\n",
       "  <tbody>\n",
       "    <tr>\n",
       "      <th>count</th>\n",
       "      <td>9.000000</td>\n",
       "      <td>9.000000</td>\n",
       "    </tr>\n",
       "    <tr>\n",
       "      <th>mean</th>\n",
       "      <td>48.000000</td>\n",
       "      <td>43.333333</td>\n",
       "    </tr>\n",
       "    <tr>\n",
       "      <th>std</th>\n",
       "      <td>3.872983</td>\n",
       "      <td>7.071068</td>\n",
       "    </tr>\n",
       "    <tr>\n",
       "      <th>min</th>\n",
       "      <td>42.000000</td>\n",
       "      <td>29.000000</td>\n",
       "    </tr>\n",
       "    <tr>\n",
       "      <th>25%</th>\n",
       "      <td>45.000000</td>\n",
       "      <td>40.000000</td>\n",
       "    </tr>\n",
       "    <tr>\n",
       "      <th>50%</th>\n",
       "      <td>50.000000</td>\n",
       "      <td>45.000000</td>\n",
       "    </tr>\n",
       "    <tr>\n",
       "      <th>75%</th>\n",
       "      <td>51.000000</td>\n",
       "      <td>48.000000</td>\n",
       "    </tr>\n",
       "    <tr>\n",
       "      <th>max</th>\n",
       "      <td>52.000000</td>\n",
       "      <td>52.000000</td>\n",
       "    </tr>\n",
       "  </tbody>\n",
       "</table>\n",
       "</div>"
      ],
      "text/plain": [
       "       GC_Content  Number of Reads\n",
       "count    9.000000         9.000000\n",
       "mean    48.000000        43.333333\n",
       "std      3.872983         7.071068\n",
       "min     42.000000        29.000000\n",
       "25%     45.000000        40.000000\n",
       "50%     50.000000        45.000000\n",
       "75%     51.000000        48.000000\n",
       "max     52.000000        52.000000"
      ]
     },
     "execution_count": 29,
     "metadata": {},
     "output_type": "execute_result"
    }
   ],
   "source": [
    "region2.describe()"
   ]
  },
  {
   "cell_type": "code",
   "execution_count": 30,
   "metadata": {},
   "outputs": [
    {
     "name": "stdout",
     "output_type": "stream",
     "text": [
      "44.96516782773907\n",
      "40.294117647058826\n",
      "47.71897810218978\n",
      "50.78369905956113\n",
      "35.526315789473685\n"
     ]
    }
   ],
   "source": [
    "print(GC(records[0].seq[604711:607869]))\n",
    "print(GC(records[0].seq[742894:743914]))\n",
    "print(GC(records[0].seq[746902:747998]))\n",
    "print(GC(records[0].seq[2662091:2662410]))\n",
    "print(GC(records[0].seq[27933:28161]))"
   ]
  },
  {
   "cell_type": "markdown",
   "metadata": {},
   "source": [
    "# Show the Stats from the original SAM File"
   ]
  },
  {
   "cell_type": "code",
   "execution_count": 31,
   "metadata": {},
   "outputs": [],
   "source": [
    "def samfile_stats(samfile):\n",
    "    samfile = pysam.AlignmentFile(samfile, \"r\")\n",
    "    iter = samfile.fetch()\n",
    "    total = 0\n",
    "    non_neg_pos = 0\n",
    "    ref_regions = []\n",
    "    no_hits = []\n",
    "    pos = []\n",
    "    for x in iter:\n",
    "        total += 1\n",
    "        if x.reference_start > -1:\n",
    "            ref_regions.append(x.reference_id)\n",
    "            pos.append(x.reference_start)\n",
    "            non_neg_pos += 1\n",
    "        else:\n",
    "            no_hits.append(x.reference_id)\n",
    "    \n",
    "    print(\"ALIGNMENT RATE: \", non_neg_pos / total)\n",
    "    print(\"REGIONS: \", set(ref_regions))\n",
    "    print(\"NO HIT REGIONS: \", set(no_hits))\n",
    "    \n",
    "    return pd.DataFrame({\"REGIONS\":  ref_regions, \"POSITION\": pos})"
   ]
  },
  {
   "cell_type": "code",
   "execution_count": 33,
   "metadata": {},
   "outputs": [
    {
     "name": "stdout",
     "output_type": "stream",
     "text": [
      "ALIGNMENT RATE:  0.7911071680435274\n",
      "REGIONS:  {0, 1, 2}\n",
      "NO HIT REGIONS:  {-1}\n"
     ]
    }
   ],
   "source": [
    "# Alignment results from seed length of 19\n",
    "sam_df = samfile_stats(\"bowtie_align_vs_L15.sam\")"
   ]
  },
  {
   "cell_type": "code",
   "execution_count": 34,
   "metadata": {},
   "outputs": [],
   "source": [
    "df.to_csv(\"sliding_window_metrics.tsv\", sep=\"\\t\")"
   ]
  },
  {
   "cell_type": "code",
   "execution_count": null,
   "metadata": {},
   "outputs": [],
   "source": []
  }
 ],
 "metadata": {
  "kernelspec": {
   "display_name": "Python 3",
   "language": "python",
   "name": "python3"
  },
  "language_info": {
   "codemirror_mode": {
    "name": "ipython",
    "version": 3
   },
   "file_extension": ".py",
   "mimetype": "text/x-python",
   "name": "python",
   "nbconvert_exporter": "python",
   "pygments_lexer": "ipython3",
   "version": "3.7.6"
  }
 },
 "nbformat": 4,
 "nbformat_minor": 2
}
