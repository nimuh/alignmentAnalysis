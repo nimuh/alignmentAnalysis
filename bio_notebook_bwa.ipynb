{
 "cells": [
  {
   "cell_type": "code",
   "execution_count": 3,
   "metadata": {},
   "outputs": [],
   "source": [
    "import pysam\n",
    "import Bio\n",
    "from Bio import SeqIO\n",
    "from Bio.SeqUtils import GC\n",
    "from Bio.Seq import Seq\n",
    "from Bio.SeqRecord import SeqRecord\n",
    "import pandas as pd\n",
    "import seaborn as sns"
   ]
  },
  {
   "cell_type": "code",
   "execution_count": 4,
   "metadata": {},
   "outputs": [],
   "source": [
    "def samfile_stats(samfile):\n",
    "    samfile = pysam.AlignmentFile(samfile, \"r\")\n",
    "    iter = samfile.fetch()\n",
    "    total = 0\n",
    "    non_neg_pos = 0\n",
    "    ref_regions = []\n",
    "    no_hits = []\n",
    "    pos = []\n",
    "    for x in iter:\n",
    "        total += 1\n",
    "        if x.reference_start > -1:\n",
    "            ref_regions.append(x.reference_id)\n",
    "            pos.append(x.reference_start)\n",
    "            non_neg_pos += 1\n",
    "        else:\n",
    "            no_hits.append(x.reference_id)\n",
    "    \n",
    "    print(\"ALIGNMENT RATE: \", non_neg_pos / total)\n",
    "    print(\"REGIONS: \", set(ref_regions))\n",
    "    print(\"NO HIT REGIONS: \", set(no_hits))\n",
    "    \n",
    "    return pd.DataFrame({\"REGIONS\":  ref_regions, \"POSITION\": pos})"
   ]
  },
  {
   "cell_type": "code",
   "execution_count": null,
   "metadata": {},
   "outputs": [],
   "source": []
  },
  {
   "cell_type": "markdown",
   "metadata": {},
   "source": [
    "# sam file read in as Dataframe"
   ]
  },
  {
   "cell_type": "code",
   "execution_count": 5,
   "metadata": {},
   "outputs": [
    {
     "name": "stdout",
     "output_type": "stream",
     "text": [
      "ALIGNMENT RATE:  0.8129087183881273\n",
      "REGIONS:  {0, 1, 2}\n",
      "NO HIT REGIONS:  {-1}\n"
     ]
    }
   ],
   "source": [
    "# Alignment results from seed length of 15 (BEST)\n",
    "df = samfile_stats(\"bwa_align_seed_15.sam\")"
   ]
  },
  {
   "cell_type": "markdown",
   "metadata": {},
   "source": [
    "# sam file parsed in command line to extract region IDs with number of reads"
   ]
  },
  {
   "cell_type": "code",
   "execution_count": 37,
   "metadata": {},
   "outputs": [],
   "source": [
    "read_hits = []\n",
    "with open(\"regions_hits_bwa\", \"r\") as ref_info:\n",
    "    for line in ref_info:\n",
    "        info = line.split(\" \")\n",
    "        read_hits.append((info[0], int(info[1])-1))"
   ]
  },
  {
   "cell_type": "code",
   "execution_count": 38,
   "metadata": {},
   "outputs": [
    {
     "data": {
      "text/plain": [
       "[('NZ_CP009617.1', 904151),\n",
       " ('NZ_CP009617.1', 904065),\n",
       " ('NZ_CP009617.1', 1257417),\n",
       " ('NZ_CP009617.1', 1256912),\n",
       " ('NZ_CP009617.1', 827685),\n",
       " ('NZ_CP009617.1', 827668),\n",
       " ('NZ_CP009617.1', 129644),\n",
       " ('NZ_CP009617.1', 129476),\n",
       " ('NZ_CP009618.1', 531766),\n",
       " ('NZ_CP009618.1', 531367)]"
      ]
     },
     "execution_count": 38,
     "metadata": {},
     "output_type": "execute_result"
    }
   ],
   "source": [
    "read_hits[0:10]"
   ]
  },
  {
   "cell_type": "markdown",
   "metadata": {},
   "source": [
    "# Sliding window of size 100 and compute GC content of each window"
   ]
  },
  {
   "cell_type": "code",
   "execution_count": 9,
   "metadata": {},
   "outputs": [],
   "source": [
    "L = 100\n",
    "ref = []\n",
    "windows = []\n",
    "gc = []\n",
    "chunks = []\n",
    "with open(\"ref1.fna\", \"r\") as handle:\n",
    "    for record in SeqIO.parse(handle, \"fasta\"):\n",
    "        chunks += [(record.id, record.seq[i:i+L], (i,i+L-1)) for i in range(0, len(record.seq), L)]"
   ]
  },
  {
   "cell_type": "code",
   "execution_count": 10,
   "metadata": {},
   "outputs": [],
   "source": [
    "gc = [[chunks[i][0], chunks[i][2], GC(chunks[i][1])] for i in range(len(chunks))]"
   ]
  },
  {
   "cell_type": "code",
   "execution_count": 11,
   "metadata": {},
   "outputs": [
    {
     "data": {
      "text/plain": [
       "[['NZ_CP009617.1', (0, 99), 39.0],\n",
       " ['NZ_CP009617.1', (100, 199), 35.0],\n",
       " ['NZ_CP009617.1', (200, 299), 30.0],\n",
       " ['NZ_CP009617.1', (300, 399), 36.0],\n",
       " ['NZ_CP009617.1', (400, 499), 43.0],\n",
       " ['NZ_CP009617.1', (500, 599), 51.0],\n",
       " ['NZ_CP009617.1', (600, 699), 48.0],\n",
       " ['NZ_CP009617.1', (700, 799), 47.0],\n",
       " ['NZ_CP009617.1', (800, 899), 47.0],\n",
       " ['NZ_CP009617.1', (900, 999), 53.0]]"
      ]
     },
     "execution_count": 11,
     "metadata": {},
     "output_type": "execute_result"
    }
   ],
   "source": [
    "gc[0:10]"
   ]
  },
  {
   "cell_type": "markdown",
   "metadata": {},
   "source": [
    "# Get read counts for each window"
   ]
  },
  {
   "cell_type": "code",
   "execution_count": 12,
   "metadata": {},
   "outputs": [],
   "source": [
    "def get_hit_counts(sam_hits):\n",
    "    hit_count_dict = {}\n",
    "    for (hid, pos) in sam_hits:\n",
    "        if not (hid, pos) in hit_count_dict.keys():\n",
    "            hit_count_dict[(hid, pos)] = 1\n",
    "        else:\n",
    "            hit_count_dict[(hid, pos)] += 1\n",
    "    return hit_count_dict"
   ]
  },
  {
   "cell_type": "code",
   "execution_count": 13,
   "metadata": {},
   "outputs": [],
   "source": [
    "def get_full_results(sliding_windows, hit_count_dict):\n",
    "    results = []\n",
    "    for window in sliding_windows:\n",
    "        count = 0\n",
    "        for i in range(window[1][0], window[1][1]+1):\n",
    "            try:\n",
    "                count += hit_count_dict[(window[0], i)]\n",
    "            except Exception:\n",
    "                None\n",
    "        results.append(window + [count])\n",
    "    return results"
   ]
  },
  {
   "cell_type": "code",
   "execution_count": 14,
   "metadata": {},
   "outputs": [],
   "source": [
    "hits = get_hit_counts(read_hits)"
   ]
  },
  {
   "cell_type": "code",
   "execution_count": 15,
   "metadata": {},
   "outputs": [],
   "source": [
    "results = get_full_results(gc, hits)"
   ]
  },
  {
   "cell_type": "code",
   "execution_count": 16,
   "metadata": {},
   "outputs": [
    {
     "data": {
      "text/plain": [
       "[['NZ_CP009617.1', (0, 99), 39.0, 252],\n",
       " ['NZ_CP009617.1', (100, 199), 35.0, 122],\n",
       " ['NZ_CP009617.1', (200, 299), 30.0, 125],\n",
       " ['NZ_CP009617.1', (300, 399), 36.0, 98],\n",
       " ['NZ_CP009617.1', (400, 499), 43.0, 89],\n",
       " ['NZ_CP009617.1', (500, 599), 51.0, 94],\n",
       " ['NZ_CP009617.1', (600, 699), 48.0, 94],\n",
       " ['NZ_CP009617.1', (700, 799), 47.0, 77],\n",
       " ['NZ_CP009617.1', (800, 899), 47.0, 59],\n",
       " ['NZ_CP009617.1', (900, 999), 53.0, 67]]"
      ]
     },
     "execution_count": 16,
     "metadata": {},
     "output_type": "execute_result"
    }
   ],
   "source": [
    "results[0:10]"
   ]
  },
  {
   "cell_type": "markdown",
   "metadata": {},
   "source": [
    "# Put results into pandas dataframe"
   ]
  },
  {
   "cell_type": "code",
   "execution_count": 25,
   "metadata": {},
   "outputs": [
    {
     "data": {
      "text/html": [
       "<div>\n",
       "<style scoped>\n",
       "    .dataframe tbody tr th:only-of-type {\n",
       "        vertical-align: middle;\n",
       "    }\n",
       "\n",
       "    .dataframe tbody tr th {\n",
       "        vertical-align: top;\n",
       "    }\n",
       "\n",
       "    .dataframe thead th {\n",
       "        text-align: right;\n",
       "    }\n",
       "</style>\n",
       "<table border=\"1\" class=\"dataframe\">\n",
       "  <thead>\n",
       "    <tr style=\"text-align: right;\">\n",
       "      <th></th>\n",
       "      <th>REFID</th>\n",
       "      <th>window</th>\n",
       "      <th>GC</th>\n",
       "      <th>hits</th>\n",
       "    </tr>\n",
       "  </thead>\n",
       "  <tbody>\n",
       "    <tr>\n",
       "      <th>0</th>\n",
       "      <td>NZ_CP009617.1</td>\n",
       "      <td>(0, 99)</td>\n",
       "      <td>39.0</td>\n",
       "      <td>252</td>\n",
       "    </tr>\n",
       "    <tr>\n",
       "      <th>1</th>\n",
       "      <td>NZ_CP009617.1</td>\n",
       "      <td>(100, 199)</td>\n",
       "      <td>35.0</td>\n",
       "      <td>122</td>\n",
       "    </tr>\n",
       "    <tr>\n",
       "      <th>2</th>\n",
       "      <td>NZ_CP009617.1</td>\n",
       "      <td>(200, 299)</td>\n",
       "      <td>30.0</td>\n",
       "      <td>125</td>\n",
       "    </tr>\n",
       "    <tr>\n",
       "      <th>3</th>\n",
       "      <td>NZ_CP009617.1</td>\n",
       "      <td>(300, 399)</td>\n",
       "      <td>36.0</td>\n",
       "      <td>98</td>\n",
       "    </tr>\n",
       "    <tr>\n",
       "      <th>4</th>\n",
       "      <td>NZ_CP009617.1</td>\n",
       "      <td>(400, 499)</td>\n",
       "      <td>43.0</td>\n",
       "      <td>89</td>\n",
       "    </tr>\n",
       "  </tbody>\n",
       "</table>\n",
       "</div>"
      ],
      "text/plain": [
       "           REFID      window    GC  hits\n",
       "0  NZ_CP009617.1     (0, 99)  39.0   252\n",
       "1  NZ_CP009617.1  (100, 199)  35.0   122\n",
       "2  NZ_CP009617.1  (200, 299)  30.0   125\n",
       "3  NZ_CP009617.1  (300, 399)  36.0    98\n",
       "4  NZ_CP009617.1  (400, 499)  43.0    89"
      ]
     },
     "execution_count": 25,
     "metadata": {},
     "output_type": "execute_result"
    }
   ],
   "source": [
    "data = pd.DataFrame(results, columns=['REFID', 'window', 'GC', 'hits'])\n",
    "data.head()"
   ]
  },
  {
   "cell_type": "code",
   "execution_count": 43,
   "metadata": {},
   "outputs": [
    {
     "data": {
      "text/html": [
       "<div>\n",
       "<style scoped>\n",
       "    .dataframe tbody tr th:only-of-type {\n",
       "        vertical-align: middle;\n",
       "    }\n",
       "\n",
       "    .dataframe tbody tr th {\n",
       "        vertical-align: top;\n",
       "    }\n",
       "\n",
       "    .dataframe thead th {\n",
       "        text-align: right;\n",
       "    }\n",
       "</style>\n",
       "<table border=\"1\" class=\"dataframe\">\n",
       "  <thead>\n",
       "    <tr style=\"text-align: right;\">\n",
       "      <th></th>\n",
       "      <th>REFID</th>\n",
       "      <th>window</th>\n",
       "      <th>GC</th>\n",
       "      <th>hits</th>\n",
       "    </tr>\n",
       "  </thead>\n",
       "  <tbody>\n",
       "    <tr>\n",
       "      <th>0</th>\n",
       "      <td>NZ_CP009617.1</td>\n",
       "      <td>(0, 99)</td>\n",
       "      <td>39.0</td>\n",
       "      <td>252</td>\n",
       "    </tr>\n",
       "    <tr>\n",
       "      <th>1</th>\n",
       "      <td>NZ_CP009617.1</td>\n",
       "      <td>(100, 199)</td>\n",
       "      <td>35.0</td>\n",
       "      <td>122</td>\n",
       "    </tr>\n",
       "    <tr>\n",
       "      <th>2</th>\n",
       "      <td>NZ_CP009617.1</td>\n",
       "      <td>(200, 299)</td>\n",
       "      <td>30.0</td>\n",
       "      <td>125</td>\n",
       "    </tr>\n",
       "    <tr>\n",
       "      <th>3</th>\n",
       "      <td>NZ_CP009617.1</td>\n",
       "      <td>(300, 399)</td>\n",
       "      <td>36.0</td>\n",
       "      <td>98</td>\n",
       "    </tr>\n",
       "    <tr>\n",
       "      <th>4</th>\n",
       "      <td>NZ_CP009617.1</td>\n",
       "      <td>(400, 499)</td>\n",
       "      <td>43.0</td>\n",
       "      <td>89</td>\n",
       "    </tr>\n",
       "  </tbody>\n",
       "</table>\n",
       "</div>"
      ],
      "text/plain": [
       "           REFID      window    GC  hits\n",
       "0  NZ_CP009617.1     (0, 99)  39.0   252\n",
       "1  NZ_CP009617.1  (100, 199)  35.0   122\n",
       "2  NZ_CP009617.1  (200, 299)  30.0   125\n",
       "3  NZ_CP009617.1  (300, 399)  36.0    98\n",
       "4  NZ_CP009617.1  (400, 499)  43.0    89"
      ]
     },
     "execution_count": 43,
     "metadata": {},
     "output_type": "execute_result"
    }
   ],
   "source": [
    "# Write out metrics to tsv file\n",
    "data.to_csv(\"sliding_window_metrics_bwa.tsv\", index=False)"
   ]
  },
  {
   "cell_type": "markdown",
   "metadata": {},
   "source": [
    "# Split window counts into high and low GC regions"
   ]
  },
  {
   "cell_type": "code",
   "execution_count": 18,
   "metadata": {},
   "outputs": [],
   "source": [
    "low_gc = data[data.GC <= 40]\n",
    "high_gc = data[data.GC >= 55]"
   ]
  },
  {
   "cell_type": "code",
   "execution_count": 23,
   "metadata": {},
   "outputs": [
    {
     "data": {
      "text/html": [
       "<div>\n",
       "<style scoped>\n",
       "    .dataframe tbody tr th:only-of-type {\n",
       "        vertical-align: middle;\n",
       "    }\n",
       "\n",
       "    .dataframe tbody tr th {\n",
       "        vertical-align: top;\n",
       "    }\n",
       "\n",
       "    .dataframe thead th {\n",
       "        text-align: right;\n",
       "    }\n",
       "</style>\n",
       "<table border=\"1\" class=\"dataframe\">\n",
       "  <thead>\n",
       "    <tr style=\"text-align: right;\">\n",
       "      <th></th>\n",
       "      <th>GC</th>\n",
       "      <th>hits</th>\n",
       "    </tr>\n",
       "  </thead>\n",
       "  <tbody>\n",
       "    <tr>\n",
       "      <th>count</th>\n",
       "      <td>11178.000000</td>\n",
       "      <td>11178.000000</td>\n",
       "    </tr>\n",
       "    <tr>\n",
       "      <th>mean</th>\n",
       "      <td>36.314751</td>\n",
       "      <td>59.538200</td>\n",
       "    </tr>\n",
       "    <tr>\n",
       "      <th>std</th>\n",
       "      <td>3.793620</td>\n",
       "      <td>54.602975</td>\n",
       "    </tr>\n",
       "    <tr>\n",
       "      <th>min</th>\n",
       "      <td>12.000000</td>\n",
       "      <td>0.000000</td>\n",
       "    </tr>\n",
       "    <tr>\n",
       "      <th>25%</th>\n",
       "      <td>35.000000</td>\n",
       "      <td>0.000000</td>\n",
       "    </tr>\n",
       "    <tr>\n",
       "      <th>50%</th>\n",
       "      <td>37.000000</td>\n",
       "      <td>75.000000</td>\n",
       "    </tr>\n",
       "    <tr>\n",
       "      <th>75%</th>\n",
       "      <td>39.000000</td>\n",
       "      <td>91.000000</td>\n",
       "    </tr>\n",
       "    <tr>\n",
       "      <th>max</th>\n",
       "      <td>40.000000</td>\n",
       "      <td>2189.000000</td>\n",
       "    </tr>\n",
       "  </tbody>\n",
       "</table>\n",
       "</div>"
      ],
      "text/plain": [
       "                 GC          hits\n",
       "count  11178.000000  11178.000000\n",
       "mean      36.314751     59.538200\n",
       "std        3.793620     54.602975\n",
       "min       12.000000      0.000000\n",
       "25%       35.000000      0.000000\n",
       "50%       37.000000     75.000000\n",
       "75%       39.000000     91.000000\n",
       "max       40.000000   2189.000000"
      ]
     },
     "execution_count": 23,
     "metadata": {},
     "output_type": "execute_result"
    }
   ],
   "source": [
    "low_gc.describe()"
   ]
  },
  {
   "cell_type": "code",
   "execution_count": 24,
   "metadata": {},
   "outputs": [
    {
     "data": {
      "text/html": [
       "<div>\n",
       "<style scoped>\n",
       "    .dataframe tbody tr th:only-of-type {\n",
       "        vertical-align: middle;\n",
       "    }\n",
       "\n",
       "    .dataframe tbody tr th {\n",
       "        vertical-align: top;\n",
       "    }\n",
       "\n",
       "    .dataframe thead th {\n",
       "        text-align: right;\n",
       "    }\n",
       "</style>\n",
       "<table border=\"1\" class=\"dataframe\">\n",
       "  <thead>\n",
       "    <tr style=\"text-align: right;\">\n",
       "      <th></th>\n",
       "      <th>GC</th>\n",
       "      <th>hits</th>\n",
       "    </tr>\n",
       "  </thead>\n",
       "  <tbody>\n",
       "    <tr>\n",
       "      <th>count</th>\n",
       "      <td>3200.000000</td>\n",
       "      <td>3200.000000</td>\n",
       "    </tr>\n",
       "    <tr>\n",
       "      <th>mean</th>\n",
       "      <td>57.047187</td>\n",
       "      <td>47.928438</td>\n",
       "    </tr>\n",
       "    <tr>\n",
       "      <th>std</th>\n",
       "      <td>2.368114</td>\n",
       "      <td>44.523347</td>\n",
       "    </tr>\n",
       "    <tr>\n",
       "      <th>min</th>\n",
       "      <td>55.000000</td>\n",
       "      <td>0.000000</td>\n",
       "    </tr>\n",
       "    <tr>\n",
       "      <th>25%</th>\n",
       "      <td>55.000000</td>\n",
       "      <td>0.000000</td>\n",
       "    </tr>\n",
       "    <tr>\n",
       "      <th>50%</th>\n",
       "      <td>56.000000</td>\n",
       "      <td>61.000000</td>\n",
       "    </tr>\n",
       "    <tr>\n",
       "      <th>75%</th>\n",
       "      <td>58.000000</td>\n",
       "      <td>74.000000</td>\n",
       "    </tr>\n",
       "    <tr>\n",
       "      <th>max</th>\n",
       "      <td>74.000000</td>\n",
       "      <td>805.000000</td>\n",
       "    </tr>\n",
       "  </tbody>\n",
       "</table>\n",
       "</div>"
      ],
      "text/plain": [
       "                GC         hits\n",
       "count  3200.000000  3200.000000\n",
       "mean     57.047187    47.928438\n",
       "std       2.368114    44.523347\n",
       "min      55.000000     0.000000\n",
       "25%      55.000000     0.000000\n",
       "50%      56.000000    61.000000\n",
       "75%      58.000000    74.000000\n",
       "max      74.000000   805.000000"
      ]
     },
     "execution_count": 24,
     "metadata": {},
     "output_type": "execute_result"
    }
   ],
   "source": [
    "high_gc.describe()"
   ]
  },
  {
   "cell_type": "code",
   "execution_count": 26,
   "metadata": {},
   "outputs": [
    {
     "data": {
      "text/plain": [
       "{'NZ_CP009617.1', 'NZ_CP009618.1', 'NZ_CP009619.1', 'NZ_CP009620.1'}"
      ]
     },
     "execution_count": 26,
     "metadata": {},
     "output_type": "execute_result"
    }
   ],
   "source": [
    "set(data.REFID)"
   ]
  },
  {
   "cell_type": "markdown",
   "metadata": {},
   "source": [
    "# Remove regions with minimal hits"
   ]
  },
  {
   "cell_type": "code",
   "execution_count": 27,
   "metadata": {},
   "outputs": [],
   "source": [
    "data_filtered = data[data.REFID != 'NZ_CP009620.1']\n",
    "data_filtered = data_filtered[data_filtered.REFID != 'NZ_CP009619.1']"
   ]
  },
  {
   "cell_type": "code",
   "execution_count": 28,
   "metadata": {},
   "outputs": [
    {
     "data": {
      "text/html": [
       "<div>\n",
       "<style scoped>\n",
       "    .dataframe tbody tr th:only-of-type {\n",
       "        vertical-align: middle;\n",
       "    }\n",
       "\n",
       "    .dataframe tbody tr th {\n",
       "        vertical-align: top;\n",
       "    }\n",
       "\n",
       "    .dataframe thead th {\n",
       "        text-align: right;\n",
       "    }\n",
       "</style>\n",
       "<table border=\"1\" class=\"dataframe\">\n",
       "  <thead>\n",
       "    <tr style=\"text-align: right;\">\n",
       "      <th></th>\n",
       "      <th>GC</th>\n",
       "      <th>hits</th>\n",
       "    </tr>\n",
       "  </thead>\n",
       "  <tbody>\n",
       "    <tr>\n",
       "      <th>count</th>\n",
       "      <td>53378.000000</td>\n",
       "      <td>53378.000000</td>\n",
       "    </tr>\n",
       "    <tr>\n",
       "      <th>mean</th>\n",
       "      <td>45.525778</td>\n",
       "      <td>71.940088</td>\n",
       "    </tr>\n",
       "    <tr>\n",
       "      <th>std</th>\n",
       "      <td>5.780689</td>\n",
       "      <td>38.581102</td>\n",
       "    </tr>\n",
       "    <tr>\n",
       "      <th>min</th>\n",
       "      <td>12.000000</td>\n",
       "      <td>0.000000</td>\n",
       "    </tr>\n",
       "    <tr>\n",
       "      <th>25%</th>\n",
       "      <td>42.000000</td>\n",
       "      <td>63.000000</td>\n",
       "    </tr>\n",
       "    <tr>\n",
       "      <th>50%</th>\n",
       "      <td>46.000000</td>\n",
       "      <td>74.000000</td>\n",
       "    </tr>\n",
       "    <tr>\n",
       "      <th>75%</th>\n",
       "      <td>49.000000</td>\n",
       "      <td>85.000000</td>\n",
       "    </tr>\n",
       "    <tr>\n",
       "      <th>max</th>\n",
       "      <td>74.000000</td>\n",
       "      <td>3346.000000</td>\n",
       "    </tr>\n",
       "  </tbody>\n",
       "</table>\n",
       "</div>"
      ],
      "text/plain": [
       "                 GC          hits\n",
       "count  53378.000000  53378.000000\n",
       "mean      45.525778     71.940088\n",
       "std        5.780689     38.581102\n",
       "min       12.000000      0.000000\n",
       "25%       42.000000     63.000000\n",
       "50%       46.000000     74.000000\n",
       "75%       49.000000     85.000000\n",
       "max       74.000000   3346.000000"
      ]
     },
     "execution_count": 28,
     "metadata": {},
     "output_type": "execute_result"
    }
   ],
   "source": [
    "data_filtered.describe()"
   ]
  },
  {
   "cell_type": "code",
   "execution_count": 29,
   "metadata": {},
   "outputs": [
    {
     "data": {
      "text/plain": [
       "<matplotlib.axes._subplots.AxesSubplot at 0x15ab84910>"
      ]
     },
     "execution_count": 29,
     "metadata": {},
     "output_type": "execute_result"
    },
    {
     "data": {
      "image/png": "[encoded data removed]",
      "text/plain": [
       "<Figure size 432x288 with 1 Axes>"
      ]
     },
     "metadata": {
      "needs_background": "light"
     },
     "output_type": "display_data"
    }
   ],
   "source": [
    "data_filtered.plot.scatter('GC', 'hits')"
   ]
  },
  {
   "cell_type": "markdown",
   "metadata": {},
   "source": [
    "# Split filtered data and perform t-test"
   ]
  },
  {
   "cell_type": "code",
   "execution_count": 30,
   "metadata": {},
   "outputs": [],
   "source": [
    "high_gc = data_filtered[data_filtered.GC >= 55]\n",
    "low_gc = data_filtered[data_filtered.GC <= 40]"
   ]
  },
  {
   "cell_type": "code",
   "execution_count": 31,
   "metadata": {},
   "outputs": [],
   "source": [
    "from scipy.stats import ttest_ind"
   ]
  },
  {
   "cell_type": "code",
   "execution_count": 32,
   "metadata": {},
   "outputs": [
    {
     "data": {
      "text/plain": [
       "Ttest_indResult(statistic=-3.8923447516195853, pvalue=0.00010071410450685265)"
      ]
     },
     "execution_count": 32,
     "metadata": {},
     "output_type": "execute_result"
    }
   ],
   "source": [
    "ttest_ind(list(high_gc.hits), list(low_gc.hits), equal_var=False)"
   ]
  },
  {
   "cell_type": "markdown",
   "metadata": {},
   "source": [
    "### The p-value from t-test is 0.001007"
   ]
  },
  {
   "cell_type": "code",
   "execution_count": null,
   "metadata": {},
   "outputs": [],
   "source": []
  }
 ],
 "metadata": {
  "kernelspec": {
   "display_name": "Python 3",
   "language": "python",
   "name": "python3"
  },
  "language_info": {
   "codemirror_mode": {
    "name": "ipython",
    "version": 3
   },
   "file_extension": ".py",
   "mimetype": "text/x-python",
   "name": "python",
   "nbconvert_exporter": "python",
   "pygments_lexer": "ipython3",
   "version": "3.8.0"
  }
 },
 "nbformat": 4,
 "nbformat_minor": 2
}
